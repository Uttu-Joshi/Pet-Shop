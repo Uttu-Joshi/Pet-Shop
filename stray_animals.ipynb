{
 "cells": [
  {
   "cell_type": "code",
   "execution_count": 1,
   "id": "649cfca3",
   "metadata": {},
   "outputs": [],
   "source": [
    "import pandas as pd\n",
    "import numpy as np\n",
    "import seaborn as sns"
   ]
  },
  {
   "cell_type": "code",
   "execution_count": 2,
   "id": "d42979ab",
   "metadata": {},
   "outputs": [
    {
     "data": {
      "text/html": [
       "<div>\n",
       "<style scoped>\n",
       "    .dataframe tbody tr th:only-of-type {\n",
       "        vertical-align: middle;\n",
       "    }\n",
       "\n",
       "    .dataframe tbody tr th {\n",
       "        vertical-align: top;\n",
       "    }\n",
       "\n",
       "    .dataframe thead th {\n",
       "        text-align: right;\n",
       "    }\n",
       "</style>\n",
       "<table border=\"1\" class=\"dataframe\">\n",
       "  <thead>\n",
       "    <tr style=\"text-align: right;\">\n",
       "      <th></th>\n",
       "      <th>Animal ID</th>\n",
       "      <th>Name</th>\n",
       "      <th>DateTime</th>\n",
       "      <th>MonthYear</th>\n",
       "      <th>Date of Birth</th>\n",
       "      <th>Outcome Type</th>\n",
       "      <th>Outcome Subtype</th>\n",
       "      <th>Animal Type</th>\n",
       "      <th>Sex upon Outcome</th>\n",
       "      <th>Age upon Outcome</th>\n",
       "      <th>Breed</th>\n",
       "      <th>Color</th>\n",
       "    </tr>\n",
       "  </thead>\n",
       "  <tbody>\n",
       "    <tr>\n",
       "      <th>0</th>\n",
       "      <td>A771830</td>\n",
       "      <td>*Bradley</td>\n",
       "      <td>12/27/2018 01:25:00 PM</td>\n",
       "      <td>12/27/2018 01:25:00 PM</td>\n",
       "      <td>05/10/2017</td>\n",
       "      <td>Adoption</td>\n",
       "      <td>Foster</td>\n",
       "      <td>Dog</td>\n",
       "      <td>Neutered Male</td>\n",
       "      <td>1 year</td>\n",
       "      <td>Pit Bull Mix</td>\n",
       "      <td>White/Blue</td>\n",
       "    </tr>\n",
       "    <tr>\n",
       "      <th>1</th>\n",
       "      <td>A779576</td>\n",
       "      <td>*Rajah</td>\n",
       "      <td>10/01/2018 05:03:00 PM</td>\n",
       "      <td>10/01/2018 05:03:00 PM</td>\n",
       "      <td>04/18/2018</td>\n",
       "      <td>Adoption</td>\n",
       "      <td>NaN</td>\n",
       "      <td>Cat</td>\n",
       "      <td>Neutered Male</td>\n",
       "      <td>5 months</td>\n",
       "      <td>Domestic Shorthair Mix</td>\n",
       "      <td>Brown Tabby</td>\n",
       "    </tr>\n",
       "    <tr>\n",
       "      <th>2</th>\n",
       "      <td>A741715</td>\n",
       "      <td>*Pebbles</td>\n",
       "      <td>01/11/2017 06:17:00 PM</td>\n",
       "      <td>01/11/2017 06:17:00 PM</td>\n",
       "      <td>03/07/2016</td>\n",
       "      <td>Adoption</td>\n",
       "      <td>NaN</td>\n",
       "      <td>Cat</td>\n",
       "      <td>Spayed Female</td>\n",
       "      <td>10 months</td>\n",
       "      <td>Domestic Shorthair Mix</td>\n",
       "      <td>Calico</td>\n",
       "    </tr>\n",
       "    <tr>\n",
       "      <th>3</th>\n",
       "      <td>A658751</td>\n",
       "      <td>Benji</td>\n",
       "      <td>11/13/2016 01:38:00 PM</td>\n",
       "      <td>11/13/2016 01:38:00 PM</td>\n",
       "      <td>07/14/2011</td>\n",
       "      <td>Return to Owner</td>\n",
       "      <td>NaN</td>\n",
       "      <td>Dog</td>\n",
       "      <td>Neutered Male</td>\n",
       "      <td>5 years</td>\n",
       "      <td>Border Terrier Mix</td>\n",
       "      <td>Tan</td>\n",
       "    </tr>\n",
       "    <tr>\n",
       "      <th>4</th>\n",
       "      <td>A721285</td>\n",
       "      <td>NaN</td>\n",
       "      <td>02/24/2016 02:42:00 PM</td>\n",
       "      <td>02/24/2016 02:42:00 PM</td>\n",
       "      <td>02/24/2014</td>\n",
       "      <td>Euthanasia</td>\n",
       "      <td>Suffering</td>\n",
       "      <td>Other</td>\n",
       "      <td>Unknown</td>\n",
       "      <td>2 years</td>\n",
       "      <td>Raccoon Mix</td>\n",
       "      <td>Black/Gray</td>\n",
       "    </tr>\n",
       "  </tbody>\n",
       "</table>\n",
       "</div>"
      ],
      "text/plain": [
       "  Animal ID      Name                DateTime               MonthYear  \\\n",
       "0   A771830  *Bradley  12/27/2018 01:25:00 PM  12/27/2018 01:25:00 PM   \n",
       "1   A779576    *Rajah  10/01/2018 05:03:00 PM  10/01/2018 05:03:00 PM   \n",
       "2   A741715  *Pebbles  01/11/2017 06:17:00 PM  01/11/2017 06:17:00 PM   \n",
       "3   A658751     Benji  11/13/2016 01:38:00 PM  11/13/2016 01:38:00 PM   \n",
       "4   A721285       NaN  02/24/2016 02:42:00 PM  02/24/2016 02:42:00 PM   \n",
       "\n",
       "  Date of Birth     Outcome Type Outcome Subtype Animal Type Sex upon Outcome  \\\n",
       "0    05/10/2017         Adoption          Foster         Dog    Neutered Male   \n",
       "1    04/18/2018         Adoption             NaN         Cat    Neutered Male   \n",
       "2    03/07/2016         Adoption             NaN         Cat    Spayed Female   \n",
       "3    07/14/2011  Return to Owner             NaN         Dog    Neutered Male   \n",
       "4    02/24/2014       Euthanasia       Suffering       Other          Unknown   \n",
       "\n",
       "  Age upon Outcome                   Breed        Color  \n",
       "0           1 year            Pit Bull Mix   White/Blue  \n",
       "1         5 months  Domestic Shorthair Mix  Brown Tabby  \n",
       "2        10 months  Domestic Shorthair Mix       Calico  \n",
       "3          5 years      Border Terrier Mix          Tan  \n",
       "4          2 years             Raccoon Mix   Black/Gray  "
      ]
     },
     "execution_count": 2,
     "metadata": {},
     "output_type": "execute_result"
    }
   ],
   "source": [
    "df=pd.read_csv('animalsAbandon.csv')\n",
    "df.head()"
   ]
  },
  {
   "cell_type": "code",
   "execution_count": 3,
   "id": "a560dab6",
   "metadata": {},
   "outputs": [
    {
     "data": {
      "text/plain": [
       "array(['Dog', 'Cat', 'Other', 'Bird', 'Livestock'], dtype=object)"
      ]
     },
     "execution_count": 3,
     "metadata": {},
     "output_type": "execute_result"
    }
   ],
   "source": [
    "df['Animal Type'].unique()"
   ]
  },
  {
   "cell_type": "code",
   "execution_count": 4,
   "id": "898d5ade",
   "metadata": {},
   "outputs": [
    {
     "data": {
      "text/plain": [
       "array(['Neutered Male', 'Spayed Female', 'Unknown', 'Intact Female',\n",
       "       'Intact Male', nan], dtype=object)"
      ]
     },
     "execution_count": 4,
     "metadata": {},
     "output_type": "execute_result"
    }
   ],
   "source": [
    "df['Sex upon Outcome'].unique()"
   ]
  },
  {
   "cell_type": "code",
   "execution_count": 5,
   "id": "093f918b",
   "metadata": {},
   "outputs": [
    {
     "data": {
      "text/plain": [
       "array(['1 year', '5 months', '10 months', '5 years', '2 years', '1 month',\n",
       "       '3 years', '8 months', '3 weeks', '9 years', '2 weeks', '4 months',\n",
       "       '2 months', '6 years', '10 years', '13 years', '4 years',\n",
       "       '6 months', '3 months', '11 years', '1 week', '9 months',\n",
       "       '4 weeks', '11 months', '8 years', '7 years', '12 years',\n",
       "       '7 months', '1 weeks', '3 days', '5 days', '14 years', '2 days',\n",
       "       '5 weeks', '4 days', '15 years', '16 years', '17 years', '6 days',\n",
       "       '1 day', '18 years', '0 years', nan, '24 years', '19 years',\n",
       "       '20 years', '22 years', '25 years', '-1 years'], dtype=object)"
      ]
     },
     "execution_count": 5,
     "metadata": {},
     "output_type": "execute_result"
    }
   ],
   "source": [
    "df['Age upon Outcome'].unique()"
   ]
  },
  {
   "cell_type": "code",
   "execution_count": 6,
   "id": "53b455e0",
   "metadata": {},
   "outputs": [
    {
     "data": {
      "text/plain": [
       "array(['Adoption', 'Return to Owner', 'Euthanasia', 'Transfer', 'Died',\n",
       "       'Rto-Adopt', 'Disposal', 'Missing', 'Relocate', nan], dtype=object)"
      ]
     },
     "execution_count": 6,
     "metadata": {},
     "output_type": "execute_result"
    }
   ],
   "source": [
    "df['Outcome Type'].unique()"
   ]
  },
  {
   "cell_type": "code",
   "execution_count": 7,
   "id": "4e9503b6",
   "metadata": {},
   "outputs": [
    {
     "data": {
      "text/html": [
       "<div>\n",
       "<style scoped>\n",
       "    .dataframe tbody tr th:only-of-type {\n",
       "        vertical-align: middle;\n",
       "    }\n",
       "\n",
       "    .dataframe tbody tr th {\n",
       "        vertical-align: top;\n",
       "    }\n",
       "\n",
       "    .dataframe thead th {\n",
       "        text-align: right;\n",
       "    }\n",
       "</style>\n",
       "<table border=\"1\" class=\"dataframe\">\n",
       "  <thead>\n",
       "    <tr style=\"text-align: right;\">\n",
       "      <th></th>\n",
       "      <th>Animal ID</th>\n",
       "      <th>Name</th>\n",
       "      <th>DateTime</th>\n",
       "      <th>MonthYear</th>\n",
       "      <th>Date of Birth</th>\n",
       "      <th>Outcome Type</th>\n",
       "      <th>Outcome Subtype</th>\n",
       "      <th>Animal Type</th>\n",
       "      <th>Sex upon Outcome</th>\n",
       "      <th>Age upon Outcome</th>\n",
       "      <th>Breed</th>\n",
       "      <th>Color</th>\n",
       "    </tr>\n",
       "  </thead>\n",
       "  <tbody>\n",
       "    <tr>\n",
       "      <th>3778</th>\n",
       "      <td>A770577</td>\n",
       "      <td>*Bun 1</td>\n",
       "      <td>04/22/2018 03:39:00 PM</td>\n",
       "      <td>04/22/2018 03:39:00 PM</td>\n",
       "      <td>04/22/2018</td>\n",
       "      <td>Transfer</td>\n",
       "      <td>Partner</td>\n",
       "      <td>Other</td>\n",
       "      <td>Unknown</td>\n",
       "      <td>0 years</td>\n",
       "      <td>Rabbit Sh Mix</td>\n",
       "      <td>Black</td>\n",
       "    </tr>\n",
       "    <tr>\n",
       "      <th>4174</th>\n",
       "      <td>A770597</td>\n",
       "      <td>*Bun 5</td>\n",
       "      <td>04/22/2018 03:40:00 PM</td>\n",
       "      <td>04/22/2018 03:40:00 PM</td>\n",
       "      <td>04/22/2018</td>\n",
       "      <td>Transfer</td>\n",
       "      <td>Partner</td>\n",
       "      <td>Other</td>\n",
       "      <td>Unknown</td>\n",
       "      <td>0 years</td>\n",
       "      <td>Rabbit Sh Mix</td>\n",
       "      <td>Black</td>\n",
       "    </tr>\n",
       "    <tr>\n",
       "      <th>4308</th>\n",
       "      <td>A693138</td>\n",
       "      <td>NaN</td>\n",
       "      <td>12/02/2014 07:01:00 PM</td>\n",
       "      <td>12/02/2014 07:01:00 PM</td>\n",
       "      <td>12/02/2014</td>\n",
       "      <td>Transfer</td>\n",
       "      <td>Partner</td>\n",
       "      <td>Other</td>\n",
       "      <td>Unknown</td>\n",
       "      <td>0 years</td>\n",
       "      <td>Rabbit Sh Mix</td>\n",
       "      <td>Pink</td>\n",
       "    </tr>\n",
       "    <tr>\n",
       "      <th>4757</th>\n",
       "      <td>A728459</td>\n",
       "      <td>NaN</td>\n",
       "      <td>06/04/2016 07:20:00 PM</td>\n",
       "      <td>06/04/2016 07:20:00 PM</td>\n",
       "      <td>06/04/2016</td>\n",
       "      <td>Transfer</td>\n",
       "      <td>Partner</td>\n",
       "      <td>Dog</td>\n",
       "      <td>Unknown</td>\n",
       "      <td>0 years</td>\n",
       "      <td>Chow Chow Mix</td>\n",
       "      <td>Brown/White</td>\n",
       "    </tr>\n",
       "    <tr>\n",
       "      <th>5207</th>\n",
       "      <td>A750151</td>\n",
       "      <td>NaN</td>\n",
       "      <td>05/23/2017 06:17:00 PM</td>\n",
       "      <td>05/23/2017 06:17:00 PM</td>\n",
       "      <td>05/23/2017</td>\n",
       "      <td>Transfer</td>\n",
       "      <td>Partner</td>\n",
       "      <td>Cat</td>\n",
       "      <td>Intact Male</td>\n",
       "      <td>0 years</td>\n",
       "      <td>Domestic Shorthair Mix</td>\n",
       "      <td>Brown Tabby</td>\n",
       "    </tr>\n",
       "    <tr>\n",
       "      <th>...</th>\n",
       "      <td>...</td>\n",
       "      <td>...</td>\n",
       "      <td>...</td>\n",
       "      <td>...</td>\n",
       "      <td>...</td>\n",
       "      <td>...</td>\n",
       "      <td>...</td>\n",
       "      <td>...</td>\n",
       "      <td>...</td>\n",
       "      <td>...</td>\n",
       "      <td>...</td>\n",
       "      <td>...</td>\n",
       "    </tr>\n",
       "    <tr>\n",
       "      <th>89874</th>\n",
       "      <td>A728454</td>\n",
       "      <td>NaN</td>\n",
       "      <td>06/04/2016 07:16:00 PM</td>\n",
       "      <td>06/04/2016 07:16:00 PM</td>\n",
       "      <td>06/04/2016</td>\n",
       "      <td>Transfer</td>\n",
       "      <td>Partner</td>\n",
       "      <td>Dog</td>\n",
       "      <td>Unknown</td>\n",
       "      <td>0 years</td>\n",
       "      <td>Chow Chow Mix</td>\n",
       "      <td>Black/White</td>\n",
       "    </tr>\n",
       "    <tr>\n",
       "      <th>90384</th>\n",
       "      <td>A677821</td>\n",
       "      <td>NaN</td>\n",
       "      <td>04/29/2014 06:49:00 PM</td>\n",
       "      <td>04/29/2014 06:49:00 PM</td>\n",
       "      <td>04/29/2014</td>\n",
       "      <td>Transfer</td>\n",
       "      <td>Partner</td>\n",
       "      <td>Other</td>\n",
       "      <td>Unknown</td>\n",
       "      <td>0 years</td>\n",
       "      <td>Rabbit Sh Mix</td>\n",
       "      <td>Black/White</td>\n",
       "    </tr>\n",
       "    <tr>\n",
       "      <th>91812</th>\n",
       "      <td>A710575</td>\n",
       "      <td>NaN</td>\n",
       "      <td>08/24/2015 06:56:00 PM</td>\n",
       "      <td>08/24/2015 06:56:00 PM</td>\n",
       "      <td>08/24/2015</td>\n",
       "      <td>Transfer</td>\n",
       "      <td>Partner</td>\n",
       "      <td>Cat</td>\n",
       "      <td>Unknown</td>\n",
       "      <td>0 years</td>\n",
       "      <td>Domestic Shorthair Mix</td>\n",
       "      <td>Orange Tabby/White</td>\n",
       "    </tr>\n",
       "    <tr>\n",
       "      <th>94412</th>\n",
       "      <td>A730076</td>\n",
       "      <td>NaN</td>\n",
       "      <td>06/28/2016 11:34:00 AM</td>\n",
       "      <td>06/28/2016 11:34:00 AM</td>\n",
       "      <td>06/28/2016</td>\n",
       "      <td>Transfer</td>\n",
       "      <td>Partner</td>\n",
       "      <td>Cat</td>\n",
       "      <td>Unknown</td>\n",
       "      <td>0 years</td>\n",
       "      <td>Domestic Shorthair Mix</td>\n",
       "      <td>Calico</td>\n",
       "    </tr>\n",
       "    <tr>\n",
       "      <th>94783</th>\n",
       "      <td>A787623</td>\n",
       "      <td>NaN</td>\n",
       "      <td>01/17/2019 12:13:00 PM</td>\n",
       "      <td>01/17/2019 12:13:00 PM</td>\n",
       "      <td>01/17/2019</td>\n",
       "      <td>Euthanasia</td>\n",
       "      <td>Rabies Risk</td>\n",
       "      <td>Other</td>\n",
       "      <td>Intact Male</td>\n",
       "      <td>0 years</td>\n",
       "      <td>Raccoon</td>\n",
       "      <td>Black/Gray</td>\n",
       "    </tr>\n",
       "  </tbody>\n",
       "</table>\n",
       "<p>118 rows × 12 columns</p>\n",
       "</div>"
      ],
      "text/plain": [
       "      Animal ID    Name                DateTime               MonthYear  \\\n",
       "3778    A770577  *Bun 1  04/22/2018 03:39:00 PM  04/22/2018 03:39:00 PM   \n",
       "4174    A770597  *Bun 5  04/22/2018 03:40:00 PM  04/22/2018 03:40:00 PM   \n",
       "4308    A693138     NaN  12/02/2014 07:01:00 PM  12/02/2014 07:01:00 PM   \n",
       "4757    A728459     NaN  06/04/2016 07:20:00 PM  06/04/2016 07:20:00 PM   \n",
       "5207    A750151     NaN  05/23/2017 06:17:00 PM  05/23/2017 06:17:00 PM   \n",
       "...         ...     ...                     ...                     ...   \n",
       "89874   A728454     NaN  06/04/2016 07:16:00 PM  06/04/2016 07:16:00 PM   \n",
       "90384   A677821     NaN  04/29/2014 06:49:00 PM  04/29/2014 06:49:00 PM   \n",
       "91812   A710575     NaN  08/24/2015 06:56:00 PM  08/24/2015 06:56:00 PM   \n",
       "94412   A730076     NaN  06/28/2016 11:34:00 AM  06/28/2016 11:34:00 AM   \n",
       "94783   A787623     NaN  01/17/2019 12:13:00 PM  01/17/2019 12:13:00 PM   \n",
       "\n",
       "      Date of Birth Outcome Type Outcome Subtype Animal Type Sex upon Outcome  \\\n",
       "3778     04/22/2018     Transfer         Partner       Other          Unknown   \n",
       "4174     04/22/2018     Transfer         Partner       Other          Unknown   \n",
       "4308     12/02/2014     Transfer         Partner       Other          Unknown   \n",
       "4757     06/04/2016     Transfer         Partner         Dog          Unknown   \n",
       "5207     05/23/2017     Transfer         Partner         Cat      Intact Male   \n",
       "...             ...          ...             ...         ...              ...   \n",
       "89874    06/04/2016     Transfer         Partner         Dog          Unknown   \n",
       "90384    04/29/2014     Transfer         Partner       Other          Unknown   \n",
       "91812    08/24/2015     Transfer         Partner         Cat          Unknown   \n",
       "94412    06/28/2016     Transfer         Partner         Cat          Unknown   \n",
       "94783    01/17/2019   Euthanasia     Rabies Risk       Other      Intact Male   \n",
       "\n",
       "      Age upon Outcome                   Breed               Color  \n",
       "3778           0 years           Rabbit Sh Mix               Black  \n",
       "4174           0 years           Rabbit Sh Mix               Black  \n",
       "4308           0 years           Rabbit Sh Mix                Pink  \n",
       "4757           0 years           Chow Chow Mix         Brown/White  \n",
       "5207           0 years  Domestic Shorthair Mix         Brown Tabby  \n",
       "...                ...                     ...                 ...  \n",
       "89874          0 years           Chow Chow Mix         Black/White  \n",
       "90384          0 years           Rabbit Sh Mix         Black/White  \n",
       "91812          0 years  Domestic Shorthair Mix  Orange Tabby/White  \n",
       "94412          0 years  Domestic Shorthair Mix              Calico  \n",
       "94783          0 years                 Raccoon          Black/Gray  \n",
       "\n",
       "[118 rows x 12 columns]"
      ]
     },
     "execution_count": 7,
     "metadata": {},
     "output_type": "execute_result"
    }
   ],
   "source": [
    "a = df[df['Age upon Outcome'] == '0 years']\n",
    "a"
   ]
  },
  {
   "cell_type": "code",
   "execution_count": 8,
   "id": "187b2a7c",
   "metadata": {},
   "outputs": [],
   "source": [
    "def Age(x):\n",
    "    if pd.isnull(x):\n",
    "        return -1\n",
    "    num = int(x.split(' ')[0])\n",
    "    \n",
    "    if 'year' in x:\n",
    "        return num * 365\n",
    "    elif 'month' in x:\n",
    "        return num *30\n",
    "    elif 'week' in x:\n",
    "        return num *7\n",
    "    else:\n",
    "        return num"
   ]
  },
  {
   "cell_type": "code",
   "execution_count": 9,
   "id": "673a9b5b",
   "metadata": {},
   "outputs": [
    {
     "data": {
      "text/html": [
       "<div>\n",
       "<style scoped>\n",
       "    .dataframe tbody tr th:only-of-type {\n",
       "        vertical-align: middle;\n",
       "    }\n",
       "\n",
       "    .dataframe tbody tr th {\n",
       "        vertical-align: top;\n",
       "    }\n",
       "\n",
       "    .dataframe thead th {\n",
       "        text-align: right;\n",
       "    }\n",
       "</style>\n",
       "<table border=\"1\" class=\"dataframe\">\n",
       "  <thead>\n",
       "    <tr style=\"text-align: right;\">\n",
       "      <th></th>\n",
       "      <th>Animal ID</th>\n",
       "      <th>Name</th>\n",
       "      <th>DateTime</th>\n",
       "      <th>MonthYear</th>\n",
       "      <th>Date of Birth</th>\n",
       "      <th>Outcome Type</th>\n",
       "      <th>Outcome Subtype</th>\n",
       "      <th>Animal Type</th>\n",
       "      <th>Sex upon Outcome</th>\n",
       "      <th>Age upon Outcome</th>\n",
       "      <th>Breed</th>\n",
       "      <th>Color</th>\n",
       "    </tr>\n",
       "  </thead>\n",
       "  <tbody>\n",
       "    <tr>\n",
       "      <th>0</th>\n",
       "      <td>A771830</td>\n",
       "      <td>*Bradley</td>\n",
       "      <td>12/27/2018 01:25:00 PM</td>\n",
       "      <td>12/27/2018 01:25:00 PM</td>\n",
       "      <td>05/10/2017</td>\n",
       "      <td>Adoption</td>\n",
       "      <td>Foster</td>\n",
       "      <td>Dog</td>\n",
       "      <td>Neutered Male</td>\n",
       "      <td>365</td>\n",
       "      <td>Pit Bull Mix</td>\n",
       "      <td>White/Blue</td>\n",
       "    </tr>\n",
       "    <tr>\n",
       "      <th>1</th>\n",
       "      <td>A779576</td>\n",
       "      <td>*Rajah</td>\n",
       "      <td>10/01/2018 05:03:00 PM</td>\n",
       "      <td>10/01/2018 05:03:00 PM</td>\n",
       "      <td>04/18/2018</td>\n",
       "      <td>Adoption</td>\n",
       "      <td>NaN</td>\n",
       "      <td>Cat</td>\n",
       "      <td>Neutered Male</td>\n",
       "      <td>150</td>\n",
       "      <td>Domestic Shorthair Mix</td>\n",
       "      <td>Brown Tabby</td>\n",
       "    </tr>\n",
       "    <tr>\n",
       "      <th>2</th>\n",
       "      <td>A741715</td>\n",
       "      <td>*Pebbles</td>\n",
       "      <td>01/11/2017 06:17:00 PM</td>\n",
       "      <td>01/11/2017 06:17:00 PM</td>\n",
       "      <td>03/07/2016</td>\n",
       "      <td>Adoption</td>\n",
       "      <td>NaN</td>\n",
       "      <td>Cat</td>\n",
       "      <td>Spayed Female</td>\n",
       "      <td>300</td>\n",
       "      <td>Domestic Shorthair Mix</td>\n",
       "      <td>Calico</td>\n",
       "    </tr>\n",
       "    <tr>\n",
       "      <th>3</th>\n",
       "      <td>A658751</td>\n",
       "      <td>Benji</td>\n",
       "      <td>11/13/2016 01:38:00 PM</td>\n",
       "      <td>11/13/2016 01:38:00 PM</td>\n",
       "      <td>07/14/2011</td>\n",
       "      <td>Return to Owner</td>\n",
       "      <td>NaN</td>\n",
       "      <td>Dog</td>\n",
       "      <td>Neutered Male</td>\n",
       "      <td>1825</td>\n",
       "      <td>Border Terrier Mix</td>\n",
       "      <td>Tan</td>\n",
       "    </tr>\n",
       "    <tr>\n",
       "      <th>4</th>\n",
       "      <td>A721285</td>\n",
       "      <td>NaN</td>\n",
       "      <td>02/24/2016 02:42:00 PM</td>\n",
       "      <td>02/24/2016 02:42:00 PM</td>\n",
       "      <td>02/24/2014</td>\n",
       "      <td>Euthanasia</td>\n",
       "      <td>Suffering</td>\n",
       "      <td>Other</td>\n",
       "      <td>Unknown</td>\n",
       "      <td>730</td>\n",
       "      <td>Raccoon Mix</td>\n",
       "      <td>Black/Gray</td>\n",
       "    </tr>\n",
       "    <tr>\n",
       "      <th>...</th>\n",
       "      <td>...</td>\n",
       "      <td>...</td>\n",
       "      <td>...</td>\n",
       "      <td>...</td>\n",
       "      <td>...</td>\n",
       "      <td>...</td>\n",
       "      <td>...</td>\n",
       "      <td>...</td>\n",
       "      <td>...</td>\n",
       "      <td>...</td>\n",
       "      <td>...</td>\n",
       "      <td>...</td>\n",
       "    </tr>\n",
       "    <tr>\n",
       "      <th>95362</th>\n",
       "      <td>A788329</td>\n",
       "      <td>Bane</td>\n",
       "      <td>01/31/2019 03:27:00 PM</td>\n",
       "      <td>01/31/2019 03:27:00 PM</td>\n",
       "      <td>09/07/2017</td>\n",
       "      <td>Return to Owner</td>\n",
       "      <td>NaN</td>\n",
       "      <td>Dog</td>\n",
       "      <td>Intact Male</td>\n",
       "      <td>365</td>\n",
       "      <td>Doberman Pinsch Mix</td>\n",
       "      <td>Black/Brown</td>\n",
       "    </tr>\n",
       "    <tr>\n",
       "      <th>95363</th>\n",
       "      <td>A788087</td>\n",
       "      <td>Midnight</td>\n",
       "      <td>01/26/2019 06:06:00 PM</td>\n",
       "      <td>01/26/2019 06:06:00 PM</td>\n",
       "      <td>05/26/2018</td>\n",
       "      <td>Return to Owner</td>\n",
       "      <td>NaN</td>\n",
       "      <td>Dog</td>\n",
       "      <td>Intact Female</td>\n",
       "      <td>240</td>\n",
       "      <td>German Shepherd Mix</td>\n",
       "      <td>Black</td>\n",
       "    </tr>\n",
       "    <tr>\n",
       "      <th>95364</th>\n",
       "      <td>A759491</td>\n",
       "      <td>Charlie</td>\n",
       "      <td>01/31/2019 04:17:00 PM</td>\n",
       "      <td>01/31/2019 04:17:00 PM</td>\n",
       "      <td>10/03/2012</td>\n",
       "      <td>Return to Owner</td>\n",
       "      <td>NaN</td>\n",
       "      <td>Dog</td>\n",
       "      <td>Neutered Male</td>\n",
       "      <td>2190</td>\n",
       "      <td>Pug Mix</td>\n",
       "      <td>Tan/Black</td>\n",
       "    </tr>\n",
       "    <tr>\n",
       "      <th>95365</th>\n",
       "      <td>A722968</td>\n",
       "      <td>Glacier</td>\n",
       "      <td>01/31/2019 04:59:00 PM</td>\n",
       "      <td>01/31/2019 04:59:00 PM</td>\n",
       "      <td>03/24/2015</td>\n",
       "      <td>Adoption</td>\n",
       "      <td>NaN</td>\n",
       "      <td>Cat</td>\n",
       "      <td>Neutered Male</td>\n",
       "      <td>1095</td>\n",
       "      <td>Siamese Mix</td>\n",
       "      <td>Seal Point</td>\n",
       "    </tr>\n",
       "    <tr>\n",
       "      <th>95366</th>\n",
       "      <td>A780441</td>\n",
       "      <td>Junior</td>\n",
       "      <td>01/31/2019 04:14:00 PM</td>\n",
       "      <td>01/31/2019 04:14:00 PM</td>\n",
       "      <td>09/15/2016</td>\n",
       "      <td>Euthanasia</td>\n",
       "      <td>Aggressive</td>\n",
       "      <td>Dog</td>\n",
       "      <td>Neutered Male</td>\n",
       "      <td>730</td>\n",
       "      <td>Pit Bull Mix</td>\n",
       "      <td>Brown/Fawn</td>\n",
       "    </tr>\n",
       "  </tbody>\n",
       "</table>\n",
       "<p>95367 rows × 12 columns</p>\n",
       "</div>"
      ],
      "text/plain": [
       "      Animal ID      Name                DateTime               MonthYear  \\\n",
       "0       A771830  *Bradley  12/27/2018 01:25:00 PM  12/27/2018 01:25:00 PM   \n",
       "1       A779576    *Rajah  10/01/2018 05:03:00 PM  10/01/2018 05:03:00 PM   \n",
       "2       A741715  *Pebbles  01/11/2017 06:17:00 PM  01/11/2017 06:17:00 PM   \n",
       "3       A658751     Benji  11/13/2016 01:38:00 PM  11/13/2016 01:38:00 PM   \n",
       "4       A721285       NaN  02/24/2016 02:42:00 PM  02/24/2016 02:42:00 PM   \n",
       "...         ...       ...                     ...                     ...   \n",
       "95362   A788329      Bane  01/31/2019 03:27:00 PM  01/31/2019 03:27:00 PM   \n",
       "95363   A788087  Midnight  01/26/2019 06:06:00 PM  01/26/2019 06:06:00 PM   \n",
       "95364   A759491   Charlie  01/31/2019 04:17:00 PM  01/31/2019 04:17:00 PM   \n",
       "95365   A722968   Glacier  01/31/2019 04:59:00 PM  01/31/2019 04:59:00 PM   \n",
       "95366   A780441    Junior  01/31/2019 04:14:00 PM  01/31/2019 04:14:00 PM   \n",
       "\n",
       "      Date of Birth     Outcome Type Outcome Subtype Animal Type  \\\n",
       "0        05/10/2017         Adoption          Foster         Dog   \n",
       "1        04/18/2018         Adoption             NaN         Cat   \n",
       "2        03/07/2016         Adoption             NaN         Cat   \n",
       "3        07/14/2011  Return to Owner             NaN         Dog   \n",
       "4        02/24/2014       Euthanasia       Suffering       Other   \n",
       "...             ...              ...             ...         ...   \n",
       "95362    09/07/2017  Return to Owner             NaN         Dog   \n",
       "95363    05/26/2018  Return to Owner             NaN         Dog   \n",
       "95364    10/03/2012  Return to Owner             NaN         Dog   \n",
       "95365    03/24/2015         Adoption             NaN         Cat   \n",
       "95366    09/15/2016       Euthanasia      Aggressive         Dog   \n",
       "\n",
       "      Sex upon Outcome  Age upon Outcome                   Breed        Color  \n",
       "0        Neutered Male               365            Pit Bull Mix   White/Blue  \n",
       "1        Neutered Male               150  Domestic Shorthair Mix  Brown Tabby  \n",
       "2        Spayed Female               300  Domestic Shorthair Mix       Calico  \n",
       "3        Neutered Male              1825      Border Terrier Mix          Tan  \n",
       "4              Unknown               730             Raccoon Mix   Black/Gray  \n",
       "...                ...               ...                     ...          ...  \n",
       "95362      Intact Male               365     Doberman Pinsch Mix  Black/Brown  \n",
       "95363    Intact Female               240     German Shepherd Mix        Black  \n",
       "95364    Neutered Male              2190                 Pug Mix    Tan/Black  \n",
       "95365    Neutered Male              1095             Siamese Mix   Seal Point  \n",
       "95366    Neutered Male               730            Pit Bull Mix   Brown/Fawn  \n",
       "\n",
       "[95367 rows x 12 columns]"
      ]
     },
     "execution_count": 9,
     "metadata": {},
     "output_type": "execute_result"
    }
   ],
   "source": [
    "df['Age upon Outcome'] = df['Age upon Outcome'].apply(Age)\n",
    "df"
   ]
  },
  {
   "cell_type": "code",
   "execution_count": 10,
   "id": "000a730b",
   "metadata": {},
   "outputs": [
    {
     "data": {
      "text/html": [
       "<div>\n",
       "<style scoped>\n",
       "    .dataframe tbody tr th:only-of-type {\n",
       "        vertical-align: middle;\n",
       "    }\n",
       "\n",
       "    .dataframe tbody tr th {\n",
       "        vertical-align: top;\n",
       "    }\n",
       "\n",
       "    .dataframe thead th {\n",
       "        text-align: right;\n",
       "    }\n",
       "</style>\n",
       "<table border=\"1\" class=\"dataframe\">\n",
       "  <thead>\n",
       "    <tr style=\"text-align: right;\">\n",
       "      <th></th>\n",
       "      <th>Animal Type</th>\n",
       "      <th>Sex upon Outcome</th>\n",
       "      <th>Age upon Outcome</th>\n",
       "    </tr>\n",
       "  </thead>\n",
       "  <tbody>\n",
       "    <tr>\n",
       "      <th>0</th>\n",
       "      <td>Dog</td>\n",
       "      <td>Neutered Male</td>\n",
       "      <td>365</td>\n",
       "    </tr>\n",
       "    <tr>\n",
       "      <th>1</th>\n",
       "      <td>Cat</td>\n",
       "      <td>Neutered Male</td>\n",
       "      <td>150</td>\n",
       "    </tr>\n",
       "    <tr>\n",
       "      <th>2</th>\n",
       "      <td>Cat</td>\n",
       "      <td>Spayed Female</td>\n",
       "      <td>300</td>\n",
       "    </tr>\n",
       "    <tr>\n",
       "      <th>3</th>\n",
       "      <td>Dog</td>\n",
       "      <td>Neutered Male</td>\n",
       "      <td>1825</td>\n",
       "    </tr>\n",
       "    <tr>\n",
       "      <th>4</th>\n",
       "      <td>Other</td>\n",
       "      <td>Unknown</td>\n",
       "      <td>730</td>\n",
       "    </tr>\n",
       "  </tbody>\n",
       "</table>\n",
       "</div>"
      ],
      "text/plain": [
       "  Animal Type Sex upon Outcome  Age upon Outcome\n",
       "0         Dog    Neutered Male               365\n",
       "1         Cat    Neutered Male               150\n",
       "2         Cat    Spayed Female               300\n",
       "3         Dog    Neutered Male              1825\n",
       "4       Other          Unknown               730"
      ]
     },
     "execution_count": 10,
     "metadata": {},
     "output_type": "execute_result"
    }
   ],
   "source": [
    "x=df[['Animal Type','Sex upon Outcome','Age upon Outcome']]\n",
    "x[0:5]"
   ]
  },
  {
   "cell_type": "code",
   "execution_count": 11,
   "id": "472a0296",
   "metadata": {},
   "outputs": [
    {
     "data": {
      "text/plain": [
       "array([ 365,  150,  300, 1825,  730,   30, 1095,  240,   21, 3285,   14,\n",
       "        120,   60, 2190, 3650, 4745, 1460,  180,   90, 4015,    7,  270,\n",
       "         28,  330, 2920, 2555, 4380,  210,    3,    5, 5110,    2,   35,\n",
       "          4, 5475, 5840, 6205,    6,    1, 6570,    0,   -1, 8760, 6935,\n",
       "       7300, 8030, 9125, -365], dtype=int64)"
      ]
     },
     "execution_count": 11,
     "metadata": {},
     "output_type": "execute_result"
    }
   ],
   "source": [
    "df['Age upon Outcome'].unique()"
   ]
  },
  {
   "cell_type": "code",
   "execution_count": null,
   "id": "f981499e",
   "metadata": {},
   "outputs": [],
   "source": []
  },
  {
   "cell_type": "code",
   "execution_count": 12,
   "id": "89383054",
   "metadata": {},
   "outputs": [
    {
     "data": {
      "text/plain": [
       "array([2, 1, 4, 0, 3])"
      ]
     },
     "execution_count": 12,
     "metadata": {},
     "output_type": "execute_result"
    }
   ],
   "source": [
    "from sklearn import preprocessing\n",
    "label_encoder = preprocessing.LabelEncoder()\n",
    "df['Animal Type']= label_encoder.fit_transform(df['Animal Type'])\n",
    " \n",
    "df['Animal Type'].unique()"
   ]
  },
  {
   "cell_type": "code",
   "execution_count": 13,
   "id": "169c4d49",
   "metadata": {},
   "outputs": [
    {
     "data": {
      "text/plain": [
       "array([2, 3, 4, 0, 1, 5])"
      ]
     },
     "execution_count": 13,
     "metadata": {},
     "output_type": "execute_result"
    }
   ],
   "source": [
    "from sklearn import preprocessing\n",
    "label_encoder = preprocessing.LabelEncoder()\n",
    "df['Sex upon Outcome']= label_encoder.fit_transform(df['Sex upon Outcome'])\n",
    " \n",
    "df['Sex upon Outcome'].unique()"
   ]
  },
  {
   "cell_type": "code",
   "execution_count": 14,
   "id": "caeff3d2",
   "metadata": {},
   "outputs": [
    {
     "data": {
      "text/plain": [
       "array([25, 18, 23, 29, 26, 13, 27, 21, 11, 33, 10, 17, 15, 30, 34, 37, 28,\n",
       "       19, 16, 35,  9, 22, 12, 24, 32, 31, 36, 20,  5,  7, 38,  4, 14,  6,\n",
       "       39, 40, 41,  8,  3, 42,  2,  1, 46, 43, 44, 45, 47,  0],\n",
       "      dtype=int64)"
      ]
     },
     "execution_count": 14,
     "metadata": {},
     "output_type": "execute_result"
    }
   ],
   "source": [
    "from sklearn import preprocessing\n",
    "label_encoder=preprocessing.LabelEncoder()\n",
    "df['Age upon Outcome']=label_encoder.fit_transform(df['Age upon Outcome'])\n",
    "df['Age upon Outcome'].unique()"
   ]
  },
  {
   "cell_type": "code",
   "execution_count": 15,
   "id": "c29cc834",
   "metadata": {},
   "outputs": [
    {
     "data": {
      "text/html": [
       "<div>\n",
       "<style scoped>\n",
       "    .dataframe tbody tr th:only-of-type {\n",
       "        vertical-align: middle;\n",
       "    }\n",
       "\n",
       "    .dataframe tbody tr th {\n",
       "        vertical-align: top;\n",
       "    }\n",
       "\n",
       "    .dataframe thead th {\n",
       "        text-align: right;\n",
       "    }\n",
       "</style>\n",
       "<table border=\"1\" class=\"dataframe\">\n",
       "  <thead>\n",
       "    <tr style=\"text-align: right;\">\n",
       "      <th></th>\n",
       "      <th>Animal Type</th>\n",
       "      <th>Sex upon Outcome</th>\n",
       "      <th>Age upon Outcome</th>\n",
       "    </tr>\n",
       "  </thead>\n",
       "  <tbody>\n",
       "    <tr>\n",
       "      <th>0</th>\n",
       "      <td>2</td>\n",
       "      <td>2</td>\n",
       "      <td>25</td>\n",
       "    </tr>\n",
       "    <tr>\n",
       "      <th>1</th>\n",
       "      <td>1</td>\n",
       "      <td>2</td>\n",
       "      <td>18</td>\n",
       "    </tr>\n",
       "    <tr>\n",
       "      <th>2</th>\n",
       "      <td>1</td>\n",
       "      <td>3</td>\n",
       "      <td>23</td>\n",
       "    </tr>\n",
       "    <tr>\n",
       "      <th>3</th>\n",
       "      <td>2</td>\n",
       "      <td>2</td>\n",
       "      <td>29</td>\n",
       "    </tr>\n",
       "    <tr>\n",
       "      <th>4</th>\n",
       "      <td>4</td>\n",
       "      <td>4</td>\n",
       "      <td>26</td>\n",
       "    </tr>\n",
       "  </tbody>\n",
       "</table>\n",
       "</div>"
      ],
      "text/plain": [
       "   Animal Type  Sex upon Outcome  Age upon Outcome\n",
       "0            2                 2                25\n",
       "1            1                 2                18\n",
       "2            1                 3                23\n",
       "3            2                 2                29\n",
       "4            4                 4                26"
      ]
     },
     "execution_count": 15,
     "metadata": {},
     "output_type": "execute_result"
    }
   ],
   "source": [
    "x=df[['Animal Type','Sex upon Outcome','Age upon Outcome']]\n",
    "x[0:5]"
   ]
  },
  {
   "cell_type": "code",
   "execution_count": 16,
   "id": "15582fa2",
   "metadata": {},
   "outputs": [
    {
     "data": {
      "text/plain": [
       "array(['Adoption', 'Adoption', 'Adoption', 'Return to Owner',\n",
       "       'Euthanasia'], dtype=object)"
      ]
     },
     "execution_count": 16,
     "metadata": {},
     "output_type": "execute_result"
    }
   ],
   "source": [
    "y=df['Outcome Type'].values\n",
    "y[0:5]"
   ]
  },
  {
   "cell_type": "code",
   "execution_count": 17,
   "id": "327bfc3a",
   "metadata": {},
   "outputs": [
    {
     "data": {
      "text/plain": [
       "array([0, 6, 3, 8, 1, 7, 2, 4, 5, 9])"
      ]
     },
     "execution_count": 17,
     "metadata": {},
     "output_type": "execute_result"
    }
   ],
   "source": [
    "from sklearn import preprocessing\n",
    "label_encoder=preprocessing.LabelEncoder()\n",
    "df['Outcome Type']=label_encoder.fit_transform(df['Outcome Type'])\n",
    "df['Outcome Type'].unique()"
   ]
  },
  {
   "cell_type": "code",
   "execution_count": 18,
   "id": "19cc59c5",
   "metadata": {},
   "outputs": [
    {
     "data": {
      "text/plain": [
       "0    0\n",
       "1    0\n",
       "2    0\n",
       "3    6\n",
       "4    3\n",
       "Name: Outcome Type, dtype: int32"
      ]
     },
     "execution_count": 18,
     "metadata": {},
     "output_type": "execute_result"
    }
   ],
   "source": [
    "y=df['Outcome Type']\n",
    "y[0:5]"
   ]
  },
  {
   "cell_type": "code",
   "execution_count": 19,
   "id": "7f2cc566",
   "metadata": {},
   "outputs": [
    {
     "data": {
      "text/plain": [
       "<seaborn.axisgrid.PairGrid at 0x177b703f220>"
      ]
     },
     "execution_count": 19,
     "metadata": {},
     "output_type": "execute_result"
    },
    {
     "data": {
      "image/png": "[encoded data removed]",
      "text/plain": [
       "<Figure size 619.125x540 with 12 Axes>"
      ]
     },
     "metadata": {
      "needs_background": "light"
     },
     "output_type": "display_data"
    }
   ],
   "source": [
    "sns.pairplot(data=df,hue='Outcome Type')"
   ]
  },
  {
   "cell_type": "code",
   "execution_count": 20,
   "id": "9a5ef96c",
   "metadata": {},
   "outputs": [
    {
     "data": {
      "text/plain": [
       "<AxesSubplot:>"
      ]
     },
     "execution_count": 20,
     "metadata": {},
     "output_type": "execute_result"
    },
    {
     "data": {
      "image/png": "[encoded data removed]",
      "text/plain": [
       "<Figure size 432x288 with 2 Axes>"
      ]
     },
     "metadata": {
      "needs_background": "light"
     },
     "output_type": "display_data"
    }
   ],
   "source": [
    "sns.heatmap(df.corr())"
   ]
  },
  {
   "cell_type": "code",
   "execution_count": 21,
   "id": "ceeaedac",
   "metadata": {},
   "outputs": [
    {
     "name": "stderr",
     "output_type": "stream",
     "text": [
      "C:\\Users\\Uttu_Joshi\\anaconda3\\lib\\site-packages\\seaborn\\_decorators.py:36: FutureWarning: Pass the following variable as a keyword arg: x. From version 0.12, the only valid positional argument will be `data`, and passing other arguments without an explicit keyword will result in an error or misinterpretation.\n",
      "  warnings.warn(\n"
     ]
    },
    {
     "data": {
      "text/plain": [
       "<AxesSubplot:xlabel='Outcome Type', ylabel='count'>"
      ]
     },
     "execution_count": 21,
     "metadata": {},
     "output_type": "execute_result"
    },
    {
     "data": {
      "image/png": "[encoded data removed]",
      "text/plain": [
       "<Figure size 432x288 with 1 Axes>"
      ]
     },
     "metadata": {
      "needs_background": "light"
     },
     "output_type": "display_data"
    }
   ],
   "source": [
    "import seaborn as sns\n",
    "sns.countplot(df['Outcome Type'])"
   ]
  },
  {
   "cell_type": "code",
   "execution_count": 22,
   "id": "9ed9bcb6",
   "metadata": {},
   "outputs": [],
   "source": [
    "from sklearn.model_selection import train_test_split\n",
    "x_train,x_test,y_train,y_test=train_test_split(x,y,test_size=0.2,random_state=42)"
   ]
  },
  {
   "cell_type": "code",
   "execution_count": 23,
   "id": "e364ae02",
   "metadata": {},
   "outputs": [
    {
     "data": {
      "text/plain": [
       "KNeighborsClassifier(n_neighbors=10)"
      ]
     },
     "execution_count": 23,
     "metadata": {},
     "output_type": "execute_result"
    }
   ],
   "source": [
    "from sklearn.neighbors import KNeighborsClassifier\n",
    "knn=KNeighborsClassifier(n_neighbors=10)\n",
    "knn.fit(x_train,y_train)"
   ]
  },
  {
   "cell_type": "code",
   "execution_count": 24,
   "id": "62a518e8",
   "metadata": {},
   "outputs": [
    {
     "data": {
      "text/plain": [
       "0.634528677781273"
      ]
     },
     "execution_count": 24,
     "metadata": {},
     "output_type": "execute_result"
    }
   ],
   "source": [
    "knn.score(x_test,y_test)"
   ]
  },
  {
   "cell_type": "code",
   "execution_count": 25,
   "id": "144c75c7",
   "metadata": {},
   "outputs": [
    {
     "data": {
      "text/plain": [
       "array([[6646,    0,    0,   27,    0,    0, 1126,    0,  519,    0],\n",
       "       [  17,    1,    0,   26,    0,    0,   14,    0,   98,    0],\n",
       "       [   8,    0,    0,   52,    0,    0,    1,    0,    4,    0],\n",
       "       [ 135,    0,    0,  765,    0,    0,  217,    0,  324,    0],\n",
       "       [   4,    0,    0,    0,    0,    0,    1,    0,    6,    0],\n",
       "       [   1,    0,    0,    5,    0,    0,    0,    0,    0,    0],\n",
       "       [1456,    0,    0,   17,    0,    0, 1503,    0,  464,    0],\n",
       "       [  34,    0,    0,    1,    0,    0,   20,    0,    6,    0],\n",
       "       [1526,    1,    0,  111,    0,    0,  748,    0, 3188,    0],\n",
       "       [   0,    0,    0,    1,    0,    0,    0,    0,    1,    0]],\n",
       "      dtype=int64)"
      ]
     },
     "execution_count": 25,
     "metadata": {},
     "output_type": "execute_result"
    }
   ],
   "source": [
    "from sklearn.metrics import confusion_matrix\n",
    "y_pred=knn.predict(x_test)\n",
    "cm=confusion_matrix(y_test,y_pred)\n",
    "cm"
   ]
  },
  {
   "cell_type": "code",
   "execution_count": 26,
   "id": "fa00c126",
   "metadata": {},
   "outputs": [
    {
     "data": {
      "text/plain": [
       "Text(69.0, 0.5, 'Truth')"
      ]
     },
     "execution_count": 26,
     "metadata": {},
     "output_type": "execute_result"
    },
    {
     "data": {
      "image/png": "[encoded data removed]",
      "text/plain": [
       "<Figure size 720x720 with 2 Axes>"
      ]
     },
     "metadata": {
      "needs_background": "light"
     },
     "output_type": "display_data"
    }
   ],
   "source": [
    "%matplotlib inline\n",
    "import matplotlib.pyplot as plt\n",
    "import seaborn as sn\n",
    "plt.figure(figsize=(10,10))\n",
    "sn.heatmap(cm, annot=True)\n",
    "plt.xlabel('Predicted')\n",
    "plt.ylabel('Truth')"
   ]
  },
  {
   "cell_type": "code",
   "execution_count": 27,
   "id": "8d827663",
   "metadata": {},
   "outputs": [
    {
     "data": {
      "text/plain": [
       "DecisionTreeClassifier()"
      ]
     },
     "execution_count": 27,
     "metadata": {},
     "output_type": "execute_result"
    }
   ],
   "source": [
    "from sklearn.tree import DecisionTreeClassifier\n",
    "dtree=DecisionTreeClassifier()\n",
    "dtree.fit(x_train,y_train)"
   ]
  },
  {
   "cell_type": "code",
   "execution_count": 28,
   "id": "9f0a9a6f",
   "metadata": {},
   "outputs": [
    {
     "data": {
      "text/plain": [
       "0.6577015833071196"
      ]
     },
     "execution_count": 28,
     "metadata": {},
     "output_type": "execute_result"
    }
   ],
   "source": [
    "dtree.score(x_test,y_test)"
   ]
  },
  {
   "cell_type": "code",
   "execution_count": 29,
   "id": "016fef52",
   "metadata": {},
   "outputs": [],
   "source": [
    "from sklearn.cluster import KMeans"
   ]
  },
  {
   "cell_type": "code",
   "execution_count": 30,
   "id": "f6dcf5f4",
   "metadata": {},
   "outputs": [
    {
     "data": {
      "text/plain": [
       "array([0, 7, 5, ..., 8, 0, 0])"
      ]
     },
     "execution_count": 30,
     "metadata": {},
     "output_type": "execute_result"
    }
   ],
   "source": [
    "km=KMeans(n_clusters=10)\n",
    "y_predicted=km.fit_predict(df[['Animal Type','Sex upon Outcome','Age upon Outcome']])\n",
    "y_predicted"
   ]
  },
  {
   "cell_type": "code",
   "execution_count": 31,
   "id": "51d97c53",
   "metadata": {},
   "outputs": [
    {
     "data": {
      "text/html": [
       "<div>\n",
       "<style scoped>\n",
       "    .dataframe tbody tr th:only-of-type {\n",
       "        vertical-align: middle;\n",
       "    }\n",
       "\n",
       "    .dataframe tbody tr th {\n",
       "        vertical-align: top;\n",
       "    }\n",
       "\n",
       "    .dataframe thead th {\n",
       "        text-align: right;\n",
       "    }\n",
       "</style>\n",
       "<table border=\"1\" class=\"dataframe\">\n",
       "  <thead>\n",
       "    <tr style=\"text-align: right;\">\n",
       "      <th></th>\n",
       "      <th>Animal ID</th>\n",
       "      <th>Name</th>\n",
       "      <th>DateTime</th>\n",
       "      <th>MonthYear</th>\n",
       "      <th>Date of Birth</th>\n",
       "      <th>Outcome Type</th>\n",
       "      <th>Outcome Subtype</th>\n",
       "      <th>Animal Type</th>\n",
       "      <th>Sex upon Outcome</th>\n",
       "      <th>Age upon Outcome</th>\n",
       "      <th>Breed</th>\n",
       "      <th>Color</th>\n",
       "      <th>cluster</th>\n",
       "    </tr>\n",
       "  </thead>\n",
       "  <tbody>\n",
       "    <tr>\n",
       "      <th>0</th>\n",
       "      <td>A771830</td>\n",
       "      <td>*Bradley</td>\n",
       "      <td>12/27/2018 01:25:00 PM</td>\n",
       "      <td>12/27/2018 01:25:00 PM</td>\n",
       "      <td>05/10/2017</td>\n",
       "      <td>0</td>\n",
       "      <td>Foster</td>\n",
       "      <td>2</td>\n",
       "      <td>2</td>\n",
       "      <td>25</td>\n",
       "      <td>Pit Bull Mix</td>\n",
       "      <td>White/Blue</td>\n",
       "      <td>0</td>\n",
       "    </tr>\n",
       "    <tr>\n",
       "      <th>1</th>\n",
       "      <td>A779576</td>\n",
       "      <td>*Rajah</td>\n",
       "      <td>10/01/2018 05:03:00 PM</td>\n",
       "      <td>10/01/2018 05:03:00 PM</td>\n",
       "      <td>04/18/2018</td>\n",
       "      <td>0</td>\n",
       "      <td>NaN</td>\n",
       "      <td>1</td>\n",
       "      <td>2</td>\n",
       "      <td>18</td>\n",
       "      <td>Domestic Shorthair Mix</td>\n",
       "      <td>Brown Tabby</td>\n",
       "      <td>7</td>\n",
       "    </tr>\n",
       "    <tr>\n",
       "      <th>2</th>\n",
       "      <td>A741715</td>\n",
       "      <td>*Pebbles</td>\n",
       "      <td>01/11/2017 06:17:00 PM</td>\n",
       "      <td>01/11/2017 06:17:00 PM</td>\n",
       "      <td>03/07/2016</td>\n",
       "      <td>0</td>\n",
       "      <td>NaN</td>\n",
       "      <td>1</td>\n",
       "      <td>3</td>\n",
       "      <td>23</td>\n",
       "      <td>Domestic Shorthair Mix</td>\n",
       "      <td>Calico</td>\n",
       "      <td>5</td>\n",
       "    </tr>\n",
       "    <tr>\n",
       "      <th>3</th>\n",
       "      <td>A658751</td>\n",
       "      <td>Benji</td>\n",
       "      <td>11/13/2016 01:38:00 PM</td>\n",
       "      <td>11/13/2016 01:38:00 PM</td>\n",
       "      <td>07/14/2011</td>\n",
       "      <td>6</td>\n",
       "      <td>NaN</td>\n",
       "      <td>2</td>\n",
       "      <td>2</td>\n",
       "      <td>29</td>\n",
       "      <td>Border Terrier Mix</td>\n",
       "      <td>Tan</td>\n",
       "      <td>8</td>\n",
       "    </tr>\n",
       "    <tr>\n",
       "      <th>4</th>\n",
       "      <td>A721285</td>\n",
       "      <td>NaN</td>\n",
       "      <td>02/24/2016 02:42:00 PM</td>\n",
       "      <td>02/24/2016 02:42:00 PM</td>\n",
       "      <td>02/24/2014</td>\n",
       "      <td>3</td>\n",
       "      <td>Suffering</td>\n",
       "      <td>4</td>\n",
       "      <td>4</td>\n",
       "      <td>26</td>\n",
       "      <td>Raccoon Mix</td>\n",
       "      <td>Black/Gray</td>\n",
       "      <td>9</td>\n",
       "    </tr>\n",
       "  </tbody>\n",
       "</table>\n",
       "</div>"
      ],
      "text/plain": [
       "  Animal ID      Name                DateTime               MonthYear  \\\n",
       "0   A771830  *Bradley  12/27/2018 01:25:00 PM  12/27/2018 01:25:00 PM   \n",
       "1   A779576    *Rajah  10/01/2018 05:03:00 PM  10/01/2018 05:03:00 PM   \n",
       "2   A741715  *Pebbles  01/11/2017 06:17:00 PM  01/11/2017 06:17:00 PM   \n",
       "3   A658751     Benji  11/13/2016 01:38:00 PM  11/13/2016 01:38:00 PM   \n",
       "4   A721285       NaN  02/24/2016 02:42:00 PM  02/24/2016 02:42:00 PM   \n",
       "\n",
       "  Date of Birth  Outcome Type Outcome Subtype  Animal Type  Sex upon Outcome  \\\n",
       "0    05/10/2017             0          Foster            2                 2   \n",
       "1    04/18/2018             0             NaN            1                 2   \n",
       "2    03/07/2016             0             NaN            1                 3   \n",
       "3    07/14/2011             6             NaN            2                 2   \n",
       "4    02/24/2014             3       Suffering            4                 4   \n",
       "\n",
       "   Age upon Outcome                   Breed        Color  cluster  \n",
       "0                25            Pit Bull Mix   White/Blue        0  \n",
       "1                18  Domestic Shorthair Mix  Brown Tabby        7  \n",
       "2                23  Domestic Shorthair Mix       Calico        5  \n",
       "3                29      Border Terrier Mix          Tan        8  \n",
       "4                26             Raccoon Mix   Black/Gray        9  "
      ]
     },
     "execution_count": 31,
     "metadata": {},
     "output_type": "execute_result"
    }
   ],
   "source": [
    "df['cluster']=y_predicted\n",
    "df.head()"
   ]
  },
  {
   "cell_type": "code",
   "execution_count": 32,
   "id": "f6a6aff2",
   "metadata": {},
   "outputs": [
    {
     "data": {
      "text/plain": [
       "[<matplotlib.lines.Line2D at 0x177be434b80>]"
      ]
     },
     "execution_count": 32,
     "metadata": {},
     "output_type": "execute_result"
    },
    {
     "data": {
      "image/png": "[encoded data removed]",
      "text/plain": [
       "<Figure size 432x288 with 1 Axes>"
      ]
     },
     "metadata": {
      "needs_background": "light"
     },
     "output_type": "display_data"
    }
   ],
   "source": [
    "sse = []\n",
    "k_rng = range(1,10)\n",
    "for k in k_rng:\n",
    "    km = KMeans(n_clusters=k)\n",
    "    km.fit(df[['Animal Type','Sex upon Outcome','Age upon Outcome']])\n",
    "    sse.append(km.inertia_)\n",
    "\n",
    "plt.xlabel('K')\n",
    "plt.ylabel('Sum of squared error')\n",
    "plt.plot(k_rng,sse)"
   ]
  },
  {
   "cell_type": "code",
   "execution_count": 33,
   "id": "09f29ad4",
   "metadata": {},
   "outputs": [
    {
     "data": {
      "text/plain": [
       "RandomForestClassifier()"
      ]
     },
     "execution_count": 33,
     "metadata": {},
     "output_type": "execute_result"
    }
   ],
   "source": [
    "from sklearn.ensemble import RandomForestClassifier\n",
    "model=RandomForestClassifier(n_estimators=100)\n",
    "model.fit(x_train,y_train)"
   ]
  },
  {
   "cell_type": "code",
   "execution_count": 34,
   "id": "8bbd872d",
   "metadata": {},
   "outputs": [
    {
     "data": {
      "text/plain": [
       "0.6579112928593898"
      ]
     },
     "execution_count": 34,
     "metadata": {},
     "output_type": "execute_result"
    }
   ],
   "source": [
    "model.score(x_test,y_test)"
   ]
  },
  {
   "cell_type": "code",
   "execution_count": 35,
   "id": "f0681417",
   "metadata": {},
   "outputs": [
    {
     "data": {
      "text/plain": [
       "array([[7136,    2,    0,   12,    0,    0,  796,    0,  372,    0],\n",
       "       [  14,    0,    0,   24,    0,    0,   16,    0,  102,    0],\n",
       "       [   8,    0,    0,   52,    0,    0,    1,    0,    4,    0],\n",
       "       [ 159,    0,    0,  738,    0,    0,  194,    0,  350,    0],\n",
       "       [   3,    0,    0,    0,    0,    0,    1,    0,    7,    0],\n",
       "       [   2,    0,    0,    4,    0,    0,    0,    0,    0,    0],\n",
       "       [1560,    1,    0,   12,    0,    0, 1456,    0,  411,    0],\n",
       "       [  43,    0,    0,    1,    0,    0,   15,    0,    2,    0],\n",
       "       [1648,    1,    0,   83,    0,    0,  623,    0, 3219,    0],\n",
       "       [   0,    0,    0,    1,    0,    0,    0,    0,    1,    0]],\n",
       "      dtype=int64)"
      ]
     },
     "execution_count": 35,
     "metadata": {},
     "output_type": "execute_result"
    }
   ],
   "source": [
    "from sklearn.metrics import confusion_matrix\n",
    "cm=confusion_matrix(y_test,model.predict(x_test))\n",
    "cm"
   ]
  },
  {
   "cell_type": "code",
   "execution_count": 36,
   "id": "84d4be37",
   "metadata": {},
   "outputs": [
    {
     "data": {
      "text/plain": [
       "Text(69.0, 0.5, 'Truth')"
      ]
     },
     "execution_count": 36,
     "metadata": {},
     "output_type": "execute_result"
    },
    {
     "data": {
      "image/png": "[encoded data removed]",
      "text/plain": [
       "<Figure size 720x504 with 2 Axes>"
      ]
     },
     "metadata": {
      "needs_background": "light"
     },
     "output_type": "display_data"
    }
   ],
   "source": [
    "plt.figure(figsize=(10,7))\n",
    "sns.heatmap(cm, annot=True)\n",
    "plt.xlabel('Predicted')\n",
    "plt.ylabel('Truth')"
   ]
  },
  {
   "cell_type": "code",
   "execution_count": 37,
   "id": "96da96ee",
   "metadata": {},
   "outputs": [],
   "source": [
    "from sklearn.naive_bayes import GaussianNB"
   ]
  },
  {
   "cell_type": "code",
   "execution_count": 38,
   "id": "c0e76851",
   "metadata": {},
   "outputs": [
    {
     "data": {
      "text/plain": [
       "GaussianNB()"
      ]
     },
     "execution_count": 38,
     "metadata": {},
     "output_type": "execute_result"
    }
   ],
   "source": [
    "model=GaussianNB()\n",
    "model.fit(x_train,y_train)"
   ]
  },
  {
   "cell_type": "code",
   "execution_count": 39,
   "id": "a209455e",
   "metadata": {},
   "outputs": [
    {
     "data": {
      "text/plain": [
       "0.6400335535283632"
      ]
     },
     "execution_count": 39,
     "metadata": {},
     "output_type": "execute_result"
    }
   ],
   "source": [
    "model.score(x_test,y_test)"
   ]
  },
  {
   "cell_type": "code",
   "execution_count": 40,
   "id": "aa03f7f0",
   "metadata": {},
   "outputs": [
    {
     "data": {
      "text/plain": [
       "MultinomialNB()"
      ]
     },
     "execution_count": 40,
     "metadata": {},
     "output_type": "execute_result"
    }
   ],
   "source": [
    "from sklearn.naive_bayes import MultinomialNB\n",
    "model=MultinomialNB()\n",
    "model.fit(x_train,y_train)"
   ]
  },
  {
   "cell_type": "code",
   "execution_count": 41,
   "id": "7ceaf89b",
   "metadata": {},
   "outputs": [
    {
     "data": {
      "text/plain": [
       "0.49596309111880044"
      ]
     },
     "execution_count": 41,
     "metadata": {},
     "output_type": "execute_result"
    }
   ],
   "source": [
    "model.score(x_test,y_test)"
   ]
  },
  {
   "cell_type": "code",
   "execution_count": null,
   "id": "9f14914b",
   "metadata": {},
   "outputs": [],
   "source": []
  }
 ],
 "metadata": {
  "kernelspec": {
   "display_name": "Python 3 (ipykernel)",
   "language": "python",
   "name": "python3"
  },
  "language_info": {
   "codemirror_mode": {
    "name": "ipython",
    "version": 3
   },
   "file_extension": ".py",
   "mimetype": "text/x-python",
   "name": "python",
   "nbconvert_exporter": "python",
   "pygments_lexer": "ipython3",
   "version": "3.9.7"
  }
 },
 "nbformat": 4,
 "nbformat_minor": 5
}
